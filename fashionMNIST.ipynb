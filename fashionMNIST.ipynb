{
  "nbformat": 4,
  "nbformat_minor": 0,
  "metadata": {
    "colab": {
      "name": "fashionMNIST.ipynb",
      "provenance": []
    },
    "kernelspec": {
      "name": "python3",
      "display_name": "Python 3"
    },
    "language_info": {
      "name": "python"
    }
  },
  "cells": [
    {
      "cell_type": "code",
      "metadata": {
        "colab": {
          "base_uri": "https://localhost:8080/"
        },
        "id": "bEpEPia84DFi",
        "outputId": "2ac10488-12d8-4512-b9b2-149261a67b28"
      },
      "source": [
        "# WandB – Install the W&B library\n",
        "!pip install wandb -q\n",
        "!pip install opencv-python"
      ],
      "execution_count": 1,
      "outputs": [
        {
          "output_type": "stream",
          "text": [
            "\u001b[K     |████████████████████████████████| 1.8 MB 5.3 MB/s \n",
            "\u001b[K     |████████████████████████████████| 97 kB 3.9 MB/s \n",
            "\u001b[K     |████████████████████████████████| 138 kB 30.1 MB/s \n",
            "\u001b[K     |████████████████████████████████| 133 kB 27.5 MB/s \n",
            "\u001b[K     |████████████████████████████████| 170 kB 29.6 MB/s \n",
            "\u001b[K     |████████████████████████████████| 63 kB 1.5 MB/s \n",
            "\u001b[K     |████████████████████████████████| 62 kB 638 kB/s \n",
            "\u001b[?25h  Building wheel for subprocess32 (setup.py) ... \u001b[?25l\u001b[?25hdone\n",
            "  Building wheel for pathtools (setup.py) ... \u001b[?25l\u001b[?25hdone\n",
            "\u001b[31mERROR: pip's dependency resolver does not currently take into account all the packages that are installed. This behaviour is the source of the following dependency conflicts.\n",
            "google-colab 1.0.0 requires requests~=2.23.0, but you have requests 2.26.0 which is incompatible.\n",
            "datascience 0.10.6 requires folium==0.2.1, but you have folium 0.8.3 which is incompatible.\u001b[0m\n",
            "Requirement already satisfied: opencv-python in /usr/local/lib/python3.7/dist-packages (4.1.2.30)\n",
            "Requirement already satisfied: numpy>=1.14.5 in /usr/local/lib/python3.7/dist-packages (from opencv-python) (1.19.5)\n"
          ],
          "name": "stdout"
        }
      ]
    },
    {
      "cell_type": "code",
      "metadata": {
        "id": "PI68vvS84J5b"
      },
      "source": [
        "import numpy as np\n",
        "import pandas as pd \n",
        "\n",
        "import tensorflow as tf\n",
        "from tensorflow import keras\n",
        "from tensorflow.keras.models import Sequential\n",
        "from tensorflow.keras.layers import Dense, Flatten, BatchNormalization, Conv2D, MaxPool2D, Dropout, MaxPooling2D, Activation, Flatten \n",
        "from tensorflow.keras.optimizers import Adam\n",
        "from keras.utils.np_utils import to_categorical # convert to one-hot-encoding\n",
        "\n",
        "from sklearn.model_selection import train_test_split\n",
        "from sklearn.metrics import confusion_matrix\n",
        "\n",
        "import matplotlib.pyplot as plt\n",
        "import seaborn as sns\n",
        "sns.set(font = 'Serif', style = 'white', rc = {'axes.facecolor':'#f1f1f1', 'figure.facecolor':'#f1f1f1'})\n",
        "\n",
        "import wandb\n",
        "from wandb.keras import WandbCallback\n",
        "\n",
        "import warnings\n",
        "warnings.filterwarnings('ignore')"
      ],
      "execution_count": 2,
      "outputs": []
    },
    {
      "cell_type": "code",
      "metadata": {
        "colab": {
          "base_uri": "https://localhost:8080/",
          "height": 68
        },
        "id": "FuAfGXUr4L93",
        "outputId": "5d5dbc29-7c7e-4e25-b21c-48fac20cfff4"
      },
      "source": [
        "# login into wandb\n",
        "wandb.login()"
      ],
      "execution_count": 3,
      "outputs": [
        {
          "output_type": "display_data",
          "data": {
            "application/javascript": [
              "\n",
              "        window._wandbApiKey = new Promise((resolve, reject) => {\n",
              "            function loadScript(url) {\n",
              "            return new Promise(function(resolve, reject) {\n",
              "                let newScript = document.createElement(\"script\");\n",
              "                newScript.onerror = reject;\n",
              "                newScript.onload = resolve;\n",
              "                document.body.appendChild(newScript);\n",
              "                newScript.src = url;\n",
              "            });\n",
              "            }\n",
              "            loadScript(\"https://cdn.jsdelivr.net/npm/postmate/build/postmate.min.js\").then(() => {\n",
              "            const iframe = document.createElement('iframe')\n",
              "            iframe.style.cssText = \"width:0;height:0;border:none\"\n",
              "            document.body.appendChild(iframe)\n",
              "            const handshake = new Postmate({\n",
              "                container: iframe,\n",
              "                url: 'https://wandb.ai/authorize'\n",
              "            });\n",
              "            const timeout = setTimeout(() => reject(\"Couldn't auto authenticate\"), 5000)\n",
              "            handshake.then(function(child) {\n",
              "                child.on('authorize', data => {\n",
              "                    clearTimeout(timeout)\n",
              "                    resolve(data)\n",
              "                });\n",
              "            });\n",
              "            })\n",
              "        });\n",
              "    "
            ],
            "text/plain": [
              "<IPython.core.display.Javascript object>"
            ]
          },
          "metadata": {
            "tags": []
          }
        },
        {
          "output_type": "stream",
          "text": [
            "\u001b[34m\u001b[1mwandb\u001b[0m: Appending key for api.wandb.ai to your netrc file: /root/.netrc\n"
          ],
          "name": "stderr"
        },
        {
          "output_type": "execute_result",
          "data": {
            "text/plain": [
              "True"
            ]
          },
          "metadata": {
            "tags": []
          },
          "execution_count": 3
        }
      ]
    },
    {
      "cell_type": "markdown",
      "metadata": {
        "id": "ZXV36wL-4SbY"
      },
      "source": [
        "## Load The Data"
      ]
    },
    {
      "cell_type": "code",
      "metadata": {
        "colab": {
          "base_uri": "https://localhost:8080/"
        },
        "id": "ZwIjtDD34N2j",
        "outputId": "c32fbd10-cd32-4e3a-a886-aaf059b727d8"
      },
      "source": [
        "from keras.datasets import fashion_mnist\n",
        "# load dataset\n",
        "(trainX, trainy), (testX, testy) = fashion_mnist.load_data()"
      ],
      "execution_count": 4,
      "outputs": [
        {
          "output_type": "stream",
          "text": [
            "Downloading data from https://storage.googleapis.com/tensorflow/tf-keras-datasets/train-labels-idx1-ubyte.gz\n",
            "32768/29515 [=================================] - 0s 0us/step\n",
            "40960/29515 [=========================================] - 0s 0us/step\n",
            "Downloading data from https://storage.googleapis.com/tensorflow/tf-keras-datasets/train-images-idx3-ubyte.gz\n",
            "26427392/26421880 [==============================] - 0s 0us/step\n",
            "26435584/26421880 [==============================] - 0s 0us/step\n",
            "Downloading data from https://storage.googleapis.com/tensorflow/tf-keras-datasets/t10k-labels-idx1-ubyte.gz\n",
            "16384/5148 [===============================================================================================] - 0s 0us/step\n",
            "Downloading data from https://storage.googleapis.com/tensorflow/tf-keras-datasets/t10k-images-idx3-ubyte.gz\n",
            "4423680/4422102 [==============================] - 0s 0us/step\n",
            "4431872/4422102 [==============================] - 0s 0us/step\n"
          ],
          "name": "stdout"
        }
      ]
    },
    {
      "cell_type": "markdown",
      "metadata": {
        "id": "86XROyN74cJ_"
      },
      "source": [
        "Show some photos"
      ]
    },
    {
      "cell_type": "code",
      "metadata": {
        "colab": {
          "base_uri": "https://localhost:8080/",
          "height": 610
        },
        "id": "c3yz3Lmr4cwO",
        "outputId": "119513ea-8d40-4ad8-e91a-b26d439b3f36"
      },
      "source": [
        "plt.figure(figsize=(10,10))\n",
        "for i in range(9):\n",
        "    plt.subplot(3, 3, i+1)\n",
        "    plt.title(\"No.\" + str(i))\n",
        "    plt.imshow(trainX[i].reshape(28,28), cmap='Greys')"
      ],
      "execution_count": 5,
      "outputs": [
        {
          "output_type": "display_data",
          "data": {
            "image/png": "[encoded data removed]",
            "text/plain": [
              "<Figure size 720x720 with 9 Axes>"
            ]
          },
          "metadata": {
            "tags": []
          }
        }
      ]
    },
    {
      "cell_type": "markdown",
      "metadata": {
        "id": "M5kCH6JB4hte"
      },
      "source": [
        "Change train data and test data into float32 and divide by 255 That normalizes data from 1 to 0"
      ]
    },
    {
      "cell_type": "code",
      "metadata": {
        "id": "ukif-PNC4ZqX"
      },
      "source": [
        "trainX = trainX.astype('float32')/255\n",
        "trainy = trainy.astype('float32')\n",
        "testX = testX.astype('float32')/255\n",
        "testy = testy.astype('float32')"
      ],
      "execution_count": 6,
      "outputs": []
    },
    {
      "cell_type": "markdown",
      "metadata": {
        "id": "adkcJoOF4oT4"
      },
      "source": [
        "Reshape train data and test data"
      ]
    },
    {
      "cell_type": "code",
      "metadata": {
        "id": "kYgcInio4mbn"
      },
      "source": [
        "trainX = trainX.reshape(-1,28,28,1)\n",
        "testX = testX.reshape(-1,28,28,1)\n",
        "#convert y_train into 10 categories\n",
        "trainy = keras.utils.to_categorical(trainy, 10)\n",
        "testy = keras.utils.to_categorical(testy, 10)"
      ],
      "execution_count": 7,
      "outputs": []
    },
    {
      "cell_type": "code",
      "metadata": {
        "colab": {
          "base_uri": "https://localhost:8080/"
        },
        "id": "SjcWLJAF4qWm",
        "outputId": "4567f937-0209-440a-d2c3-9064428d7da4"
      },
      "source": [
        "print('X_train.shape = {}, y_train.shape = {}'.format(trainX.shape, trainy.shape))\n",
        "print('X_test.shape = {}, y_test.shape = {}'.format(testX.shape, testy.shape))"
      ],
      "execution_count": 8,
      "outputs": [
        {
          "output_type": "stream",
          "text": [
            "X_train.shape = (60000, 28, 28, 1), y_train.shape = (60000, 10)\n",
            "X_test.shape = (10000, 28, 28, 1), y_test.shape = (10000, 10)\n"
          ],
          "name": "stdout"
        }
      ]
    },
    {
      "cell_type": "code",
      "metadata": {
        "colab": {
          "base_uri": "https://localhost:8080/",
          "height": 136
        },
        "id": "7Yi6xDHU4sCu",
        "outputId": "3a33aa96-35fe-4e69-afc1-20d73ec2e016"
      },
      "source": [
        "# Initilize a new wandb run\n",
        "wandb.init(entity=\"naama_z\", project=\"fashion_mnist_naama\")\n",
        "\n",
        "# 2. Save model inputs and hyperparameters\n",
        "config = wandb.config\n",
        "config.epochs = 20\n",
        "config.batch_size = 128\n"
      ],
      "execution_count": 9,
      "outputs": [
        {
          "output_type": "stream",
          "text": [
            "\u001b[34m\u001b[1mwandb\u001b[0m: Currently logged in as: \u001b[33mnaama_z\u001b[0m (use `wandb login --relogin` to force relogin)\n"
          ],
          "name": "stderr"
        },
        {
          "output_type": "display_data",
          "data": {
            "text/html": [
              "\n",
              "                Tracking run with wandb version 0.11.2<br/>\n",
              "                Syncing run <strong style=\"color:#cdcd00\">stilted-wood-1</strong> to <a href=\"https://wandb.ai\" target=\"_blank\">Weights & Biases</a> <a href=\"https://docs.wandb.com/integrations/jupyter.html\" target=\"_blank\">(Documentation)</a>.<br/>\n",
              "                Project page: <a href=\"https://wandb.ai/naama_z/fashion_mnist_naama\" target=\"_blank\">https://wandb.ai/naama_z/fashion_mnist_naama</a><br/>\n",
              "                Run page: <a href=\"https://wandb.ai/naama_z/fashion_mnist_naama/runs/2csbe7fz\" target=\"_blank\">https://wandb.ai/naama_z/fashion_mnist_naama/runs/2csbe7fz</a><br/>\n",
              "                Run data is saved locally in <code>/content/wandb/run-20210804_111832-2csbe7fz</code><br/><br/>\n",
              "            "
            ],
            "text/plain": [
              "<IPython.core.display.HTML object>"
            ]
          },
          "metadata": {
            "tags": []
          }
        }
      ]
    },
    {
      "cell_type": "markdown",
      "metadata": {
        "id": "7nKZy00w4zX5"
      },
      "source": [
        "## Create 1st model"
      ]
    },
    {
      "cell_type": "code",
      "metadata": {
        "colab": {
          "base_uri": "https://localhost:8080/"
        },
        "id": "PBG99UF-4uuN",
        "outputId": "bab72d04-9c4f-454d-d106-1bb950d9477e"
      },
      "source": [
        "model = Sequential()\n",
        "model.add(Conv2D(32,3, activation='relu',padding='same', input_shape=(28, 28,1)))\n",
        "model.add(Conv2D(32,3,padding='same', activation='relu'))\n",
        "model.add(MaxPooling2D(pool_size=(2, 2)))\n",
        "model.add(Flatten())\n",
        "model.add(Dense(128, activation='relu'))\n",
        "model.add(Dense(10, activation='softmax'))\n",
        "model.compile(optimizer='adam',loss='categorical_crossentropy', metrics=['accuracy'])\n",
        "model.summary()"
      ],
      "execution_count": 10,
      "outputs": [
        {
          "output_type": "stream",
          "text": [
            "Model: \"sequential\"\n",
            "_________________________________________________________________\n",
            "Layer (type)                 Output Shape              Param #   \n",
            "=================================================================\n",
            "conv2d (Conv2D)              (None, 28, 28, 32)        320       \n",
            "_________________________________________________________________\n",
            "conv2d_1 (Conv2D)            (None, 28, 28, 32)        9248      \n",
            "_________________________________________________________________\n",
            "max_pooling2d (MaxPooling2D) (None, 14, 14, 32)        0         \n",
            "_________________________________________________________________\n",
            "flatten (Flatten)            (None, 6272)              0         \n",
            "_________________________________________________________________\n",
            "dense (Dense)                (None, 128)               802944    \n",
            "_________________________________________________________________\n",
            "dense_1 (Dense)              (None, 10)                1290      \n",
            "=================================================================\n",
            "Total params: 813,802\n",
            "Trainable params: 813,802\n",
            "Non-trainable params: 0\n",
            "_________________________________________________________________\n"
          ],
          "name": "stdout"
        }
      ]
    },
    {
      "cell_type": "markdown",
      "metadata": {
        "id": "hKmBF2se45Kg"
      },
      "source": [
        "## Fit the Model"
      ]
    },
    {
      "cell_type": "code",
      "metadata": {
        "colab": {
          "base_uri": "https://localhost:8080/",
          "height": 1000
        },
        "id": "XivTHOka42VW",
        "outputId": "3e6b4af1-fa13-4e3a-a7a2-4e000a02a8cd"
      },
      "source": [
        "labels=[\"T-shirt or Top\",\"Pants\",\"Pullover\",\"Dress\",\"Coat\",\"Sandal\",\"Shirt\",\"Shoes\",\"Bag\",\"Boot\"]\n",
        "result1 = model.fit(trainX, trainy,batch_size=config.batch_size, epochs=config.epochs,  validation_data=( testX, testy),\n",
        "                    callbacks=[WandbCallback(data_type=\"image\", labels=labels)])\n",
        "wandb.run"
      ],
      "execution_count": 11,
      "outputs": [
        {
          "output_type": "stream",
          "text": [
            "Epoch 1/20\n",
            "469/469 [==============================] - 134s 283ms/step - loss: 0.4244 - accuracy: 0.8516 - val_loss: 0.3171 - val_accuracy: 0.8854\n",
            "Epoch 2/20\n",
            "469/469 [==============================] - 132s 281ms/step - loss: 0.2656 - accuracy: 0.9050 - val_loss: 0.2702 - val_accuracy: 0.9012\n",
            "Epoch 3/20\n",
            "469/469 [==============================] - 133s 283ms/step - loss: 0.2156 - accuracy: 0.9216 - val_loss: 0.2571 - val_accuracy: 0.9088\n",
            "Epoch 4/20\n",
            "469/469 [==============================] - 132s 281ms/step - loss: 0.1831 - accuracy: 0.9322 - val_loss: 0.2324 - val_accuracy: 0.9170\n",
            "Epoch 5/20\n",
            "469/469 [==============================] - 133s 282ms/step - loss: 0.1554 - accuracy: 0.9430 - val_loss: 0.2342 - val_accuracy: 0.9212\n",
            "Epoch 6/20\n",
            "469/469 [==============================] - 134s 286ms/step - loss: 0.1314 - accuracy: 0.9514 - val_loss: 0.2397 - val_accuracy: 0.9196\n",
            "Epoch 7/20\n",
            "469/469 [==============================] - 134s 286ms/step - loss: 0.1074 - accuracy: 0.9613 - val_loss: 0.2394 - val_accuracy: 0.9241\n",
            "Epoch 8/20\n",
            "469/469 [==============================] - 134s 286ms/step - loss: 0.0881 - accuracy: 0.9682 - val_loss: 0.2645 - val_accuracy: 0.9228\n",
            "Epoch 9/20\n",
            "469/469 [==============================] - 134s 285ms/step - loss: 0.0669 - accuracy: 0.9760 - val_loss: 0.2513 - val_accuracy: 0.9245\n",
            "Epoch 10/20\n",
            "469/469 [==============================] - 134s 285ms/step - loss: 0.0580 - accuracy: 0.9787 - val_loss: 0.3069 - val_accuracy: 0.9122\n",
            "Epoch 11/20\n",
            "469/469 [==============================] - 133s 282ms/step - loss: 0.0446 - accuracy: 0.9840 - val_loss: 0.2887 - val_accuracy: 0.9290\n",
            "Epoch 12/20\n",
            "469/469 [==============================] - 131s 279ms/step - loss: 0.0307 - accuracy: 0.9893 - val_loss: 0.3456 - val_accuracy: 0.9174\n",
            "Epoch 13/20\n",
            "469/469 [==============================] - 132s 281ms/step - loss: 0.0271 - accuracy: 0.9907 - val_loss: 0.3518 - val_accuracy: 0.9167\n",
            "Epoch 14/20\n",
            "469/469 [==============================] - 131s 278ms/step - loss: 0.0240 - accuracy: 0.9923 - val_loss: 0.3669 - val_accuracy: 0.9239\n",
            "Epoch 15/20\n",
            "469/469 [==============================] - 132s 281ms/step - loss: 0.0213 - accuracy: 0.9926 - val_loss: 0.3980 - val_accuracy: 0.9216\n",
            "Epoch 16/20\n",
            "469/469 [==============================] - 133s 282ms/step - loss: 0.0189 - accuracy: 0.9933 - val_loss: 0.3996 - val_accuracy: 0.9224\n",
            "Epoch 17/20\n",
            "469/469 [==============================] - 132s 281ms/step - loss: 0.0192 - accuracy: 0.9938 - val_loss: 0.4214 - val_accuracy: 0.9224\n",
            "Epoch 18/20\n",
            "469/469 [==============================] - 132s 280ms/step - loss: 0.0105 - accuracy: 0.9967 - val_loss: 0.4454 - val_accuracy: 0.9239\n",
            "Epoch 19/20\n",
            "469/469 [==============================] - 132s 280ms/step - loss: 0.0147 - accuracy: 0.9948 - val_loss: 0.4921 - val_accuracy: 0.9182\n",
            "Epoch 20/20\n",
            "469/469 [==============================] - 132s 281ms/step - loss: 0.0134 - accuracy: 0.9954 - val_loss: 0.4704 - val_accuracy: 0.9255\n"
          ],
          "name": "stdout"
        },
        {
          "output_type": "execute_result",
          "data": {
            "text/plain": [
              "<wandb.sdk.wandb_run.Run at 0x7f7062896b10>"
            ],
            "text/html": [
              "<h1>Run(2csbe7fz)</h1><iframe src=\"https://wandb.ai/naama_z/fashion_mnist_naama/runs/2csbe7fz\" style=\"border:none;width:100%;height:400px\"></iframe>"
            ]
          },
          "metadata": {
            "tags": []
          },
          "execution_count": 11
        }
      ]
    },
    {
      "cell_type": "markdown",
      "metadata": {
        "id": "nzSPa2d14-HJ"
      },
      "source": [
        "## Create 2st model"
      ]
    },
    {
      "cell_type": "code",
      "metadata": {
        "colab": {
          "base_uri": "https://localhost:8080/"
        },
        "id": "z_Qj89bT47-G",
        "outputId": "ebf4a46a-5d5e-40d9-eabd-e835c4ea11a5"
      },
      "source": [
        "#Build 2nd model.\n",
        "model = Sequential()\n",
        "model.add(Conv2D(32,3, activation='relu',padding='same', input_shape=(28, 28,1)))\n",
        "model.add(Conv2D(32,3,padding='same', activation='relu'))\n",
        "model.add(MaxPooling2D(pool_size=(2, 2)))\n",
        "model.add(Flatten())\n",
        "model.add(Dense(128, activation='relu'))\n",
        "model.add(Dense(10, activation='softmax'))\n",
        "model.compile(optimizer='rmsprop',loss='categorical_crossentropy', metrics=['accuracy'])\n",
        "model.summary()"
      ],
      "execution_count": 12,
      "outputs": [
        {
          "output_type": "stream",
          "text": [
            "Model: \"sequential_1\"\n",
            "_________________________________________________________________\n",
            "Layer (type)                 Output Shape              Param #   \n",
            "=================================================================\n",
            "conv2d_2 (Conv2D)            (None, 28, 28, 32)        320       \n",
            "_________________________________________________________________\n",
            "conv2d_3 (Conv2D)            (None, 28, 28, 32)        9248      \n",
            "_________________________________________________________________\n",
            "max_pooling2d_1 (MaxPooling2 (None, 14, 14, 32)        0         \n",
            "_________________________________________________________________\n",
            "flatten_1 (Flatten)          (None, 6272)              0         \n",
            "_________________________________________________________________\n",
            "dense_2 (Dense)              (None, 128)               802944    \n",
            "_________________________________________________________________\n",
            "dense_3 (Dense)              (None, 10)                1290      \n",
            "=================================================================\n",
            "Total params: 813,802\n",
            "Trainable params: 813,802\n",
            "Non-trainable params: 0\n",
            "_________________________________________________________________\n"
          ],
          "name": "stdout"
        }
      ]
    },
    {
      "cell_type": "code",
      "metadata": {
        "colab": {
          "base_uri": "https://localhost:8080/",
          "height": 1000
        },
        "id": "lH6Sso1U5Fxa",
        "outputId": "b2e89e41-e1ef-4250-f74d-e7b1ea96f373"
      },
      "source": [
        "%%wandb\n",
        "result2 = model.fit(trainX, trainy,batch_size=config.batch_size, epochs=config.epochs, validation_data=( testX, testy),\n",
        "                    callbacks=[WandbCallback(data_type=\"image\", labels=labels)])\n",
        "#wandb.run"
      ],
      "execution_count": 13,
      "outputs": [
        {
          "output_type": "display_data",
          "data": {
            "text/html": [
              "<iframe src=\"https://wandb.ai/naama_z/fashion_mnist_naama/runs/2csbe7fz?jupyter=true\" style=\"border:none;width:100%;height:420px\">\n",
              "                </iframe>"
            ],
            "text/plain": [
              "<wandb.jupyter.Run at 0x7f7056609550>"
            ]
          },
          "metadata": {
            "tags": []
          }
        },
        {
          "output_type": "stream",
          "text": [
            "Epoch 1/20\n",
            "469/469 [==============================] - 133s 283ms/step - loss: 0.4322 - accuracy: 0.8443 - val_loss: 0.3198 - val_accuracy: 0.8849\n",
            "Epoch 2/20\n",
            "469/469 [==============================] - 133s 283ms/step - loss: 0.2527 - accuracy: 0.9083 - val_loss: 0.2902 - val_accuracy: 0.8918\n",
            "Epoch 3/20\n",
            "469/469 [==============================] - 133s 284ms/step - loss: 0.2004 - accuracy: 0.9257 - val_loss: 0.2300 - val_accuracy: 0.9164\n",
            "Epoch 4/20\n",
            "469/469 [==============================] - 133s 283ms/step - loss: 0.1638 - accuracy: 0.9399 - val_loss: 0.2509 - val_accuracy: 0.9106\n",
            "Epoch 5/20\n",
            "469/469 [==============================] - 133s 284ms/step - loss: 0.1342 - accuracy: 0.9514 - val_loss: 0.2326 - val_accuracy: 0.9206\n",
            "Epoch 6/20\n",
            "469/469 [==============================] - 133s 282ms/step - loss: 0.1090 - accuracy: 0.9608 - val_loss: 0.2544 - val_accuracy: 0.9191\n",
            "Epoch 7/20\n",
            "469/469 [==============================] - 134s 285ms/step - loss: 0.0882 - accuracy: 0.9681 - val_loss: 0.2471 - val_accuracy: 0.9283\n",
            "Epoch 8/20\n",
            "469/469 [==============================] - 134s 286ms/step - loss: 0.0706 - accuracy: 0.9749 - val_loss: 0.2492 - val_accuracy: 0.9254\n",
            "Epoch 9/20\n",
            "469/469 [==============================] - 133s 282ms/step - loss: 0.0557 - accuracy: 0.9801 - val_loss: 0.3270 - val_accuracy: 0.9219\n",
            "Epoch 10/20\n",
            "469/469 [==============================] - 133s 283ms/step - loss: 0.0434 - accuracy: 0.9848 - val_loss: 0.3184 - val_accuracy: 0.9259\n",
            "Epoch 11/20\n",
            "469/469 [==============================] - 133s 283ms/step - loss: 0.0335 - accuracy: 0.9882 - val_loss: 0.3694 - val_accuracy: 0.9245\n",
            "Epoch 12/20\n",
            "469/469 [==============================] - 135s 286ms/step - loss: 0.0269 - accuracy: 0.9907 - val_loss: 0.3731 - val_accuracy: 0.9269\n",
            "Epoch 13/20\n",
            "469/469 [==============================] - 134s 286ms/step - loss: 0.0211 - accuracy: 0.9928 - val_loss: 0.3768 - val_accuracy: 0.9241\n",
            "Epoch 14/20\n",
            "469/469 [==============================] - 136s 289ms/step - loss: 0.0173 - accuracy: 0.9944 - val_loss: 0.4853 - val_accuracy: 0.9235\n",
            "Epoch 15/20\n",
            "469/469 [==============================] - 135s 287ms/step - loss: 0.0146 - accuracy: 0.9951 - val_loss: 0.4861 - val_accuracy: 0.9250\n",
            "Epoch 16/20\n",
            "469/469 [==============================] - 134s 286ms/step - loss: 0.0117 - accuracy: 0.9959 - val_loss: 0.5168 - val_accuracy: 0.9226\n",
            "Epoch 17/20\n",
            "469/469 [==============================] - 134s 285ms/step - loss: 0.0094 - accuracy: 0.9970 - val_loss: 0.6484 - val_accuracy: 0.9121\n",
            "Epoch 18/20\n",
            "469/469 [==============================] - 133s 284ms/step - loss: 0.0087 - accuracy: 0.9973 - val_loss: 0.6026 - val_accuracy: 0.9218\n",
            "Epoch 19/20\n",
            "469/469 [==============================] - 133s 284ms/step - loss: 0.0076 - accuracy: 0.9974 - val_loss: 0.6212 - val_accuracy: 0.9220\n",
            "Epoch 20/20\n",
            "469/469 [==============================] - 134s 284ms/step - loss: 0.0069 - accuracy: 0.9979 - val_loss: 0.6492 - val_accuracy: 0.9241\n"
          ],
          "name": "stdout"
        }
      ]
    },
    {
      "cell_type": "markdown",
      "metadata": {
        "id": "KPkPQrFxD5Kf"
      },
      "source": [
        "The models are pretty much the same"
      ]
    },
    {
      "cell_type": "markdown",
      "metadata": {
        "id": "VBF16rY0D_O_"
      },
      "source": [
        "## Prediction"
      ]
    },
    {
      "cell_type": "code",
      "metadata": {
        "colab": {
          "base_uri": "https://localhost:8080/",
          "height": 285
        },
        "id": "BV8d4krGD0gV",
        "outputId": "87fad207-748a-4444-a869-7e1732897c1e"
      },
      "source": [
        "plt.imshow(testX[[55]].reshape(28,28),cmap='Greys')"
      ],
      "execution_count": 14,
      "outputs": [
        {
          "output_type": "execute_result",
          "data": {
            "text/plain": [
              "<matplotlib.image.AxesImage at 0x7f7057d66050>"
            ]
          },
          "metadata": {
            "tags": []
          },
          "execution_count": 14
        },
        {
          "output_type": "display_data",
          "data": {
            "image/png": "[encoded data removed]",
            "text/plain": [
              "<Figure size 432x288 with 1 Axes>"
            ]
          },
          "metadata": {
            "tags": []
          }
        }
      ]
    },
    {
      "cell_type": "code",
      "metadata": {
        "colab": {
          "base_uri": "https://localhost:8080/"
        },
        "id": "5phuaLkZEDjf",
        "outputId": "ad2b9547-343e-45f1-f146-c066ff7840ff"
      },
      "source": [
        "#Let's predict.\n",
        "prediction=model.predict(testX[[55]]) \n",
        "prediction"
      ],
      "execution_count": 15,
      "outputs": [
        {
          "output_type": "execute_result",
          "data": {
            "text/plain": [
              "array([[1.2507705e-15, 1.5417471e-29, 9.9989045e-01, 8.6186955e-26,\n",
              "        3.7826104e-16, 9.6189858e-28, 1.0948947e-04, 1.8725484e-32,\n",
              "        1.4316717e-36, 1.0779157e-21]], dtype=float32)"
            ]
          },
          "metadata": {
            "tags": []
          },
          "execution_count": 15
        }
      ]
    },
    {
      "cell_type": "code",
      "metadata": {
        "colab": {
          "base_uri": "https://localhost:8080/"
        },
        "id": "DwhvbonKEG5v",
        "outputId": "aa2573b4-3257-42a0-df97-f4c9bd4aae36"
      },
      "source": [
        "#Preparation for this predction. \n",
        "list1=[]\n",
        "[list1.append(i) for i in range(26)]\n",
        "list2=[]\n",
        "[list2.append(i) for i in labels]\n",
        "dic = dict(zip(list1, list2))\n",
        "#Let's check the result.\n",
        "print(\"The answer is\",dic[np.argmax(prediction)],\"!\")"
      ],
      "execution_count": 16,
      "outputs": [
        {
          "output_type": "stream",
          "text": [
            "The answer is Pullover !\n"
          ],
          "name": "stdout"
        }
      ]
    },
    {
      "cell_type": "code",
      "metadata": {
        "colab": {
          "base_uri": "https://localhost:8080/"
        },
        "id": "Vj6M5IJBEHo3",
        "outputId": "e938b7ac-2b43-4682-d7a0-e46771630477"
      },
      "source": [
        "#Let's predict whole test data! \n",
        "predictions = model.predict(testX)\n",
        "results = np.argmax(predictions,axis=1)\n",
        "results = pd.Series(results, name=\"Label\")\n",
        "results.tail()"
      ],
      "execution_count": 17,
      "outputs": [
        {
          "output_type": "execute_result",
          "data": {
            "text/plain": [
              "9995    9\n",
              "9996    1\n",
              "9997    8\n",
              "9998    1\n",
              "9999    5\n",
              "Name: Label, dtype: int64"
            ]
          },
          "metadata": {
            "tags": []
          },
          "execution_count": 17
        }
      ]
    },
    {
      "cell_type": "markdown",
      "metadata": {
        "id": "RkekSwpqELlf"
      },
      "source": [
        "#Save the model"
      ]
    },
    {
      "cell_type": "code",
      "metadata": {
        "colab": {
          "base_uri": "https://localhost:8080/"
        },
        "id": "IZMd1AUKEMgb",
        "outputId": "122c4779-9d91-4efd-dd3e-2d6ae0e1463b"
      },
      "source": [
        "model.save('model_fashion2')"
      ],
      "execution_count": 18,
      "outputs": [
        {
          "output_type": "stream",
          "text": [
            "INFO:tensorflow:Assets written to: model_fashion2/assets\n"
          ],
          "name": "stdout"
        }
      ]
    },
    {
      "cell_type": "code",
      "metadata": {
        "id": "dtSwwVK_EQQR"
      },
      "source": [
        "model.save('model_fashion2.h5')"
      ],
      "execution_count": 19,
      "outputs": []
    },
    {
      "cell_type": "code",
      "metadata": {
        "id": "ZLQvusGsUdoQ"
      },
      "source": [
        ""
      ],
      "execution_count": null,
      "outputs": []
    }
  ]
}